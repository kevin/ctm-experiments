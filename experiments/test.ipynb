{
 "cells": [
  {
   "cell_type": "markdown",
   "id": "d15cbaf3",
   "metadata": {},
   "source": [
    "imports"
   ]
  },
  {
   "cell_type": "code",
   "execution_count": 1,
   "id": "61ca5614",
   "metadata": {},
   "outputs": [
    {
     "data": {
      "text/plain": [
       "<module 'models.ctm' from '/home/kevin/projects/ctm-experiments/experiments/../models/ctm.py'>"
      ]
     },
     "execution_count": 1,
     "metadata": {},
     "output_type": "execute_result"
    }
   ],
   "source": [
    "import jax\n",
    "from jax import numpy as jnp\n",
    "from flax import nnx\n",
    "import flax\n",
    "import evojax\n",
    "\n",
    "import numpy as np\n",
    "\n",
    "import sys\n",
    "sys.path.append(\"..\")\n",
    "\n",
    "import os\n",
    "\n",
    "from IPython.display import Image\n",
    "\n",
    "from models.ctm import CTM\n",
    "\n",
    "# dynamic reload\n",
    "import importlib\n",
    "importlib.reload(sys.modules[\"models.ctm\"])"
   ]
  },
  {
   "cell_type": "markdown",
   "id": "5417a762",
   "metadata": {},
   "source": [
    "create model"
   ]
  },
  {
   "cell_type": "code",
   "execution_count": 4,
   "id": "2231639d",
   "metadata": {},
   "outputs": [
    {
     "name": "stdout",
     "output_type": "stream",
     "text": [
      "Original output: [-0.002204   -0.00610502  0.00429293]\n",
      "Flattened parameter vector shape: (5142,)\n"
     ]
    }
   ],
   "source": [
    "def flatten_params(model):\n",
    "    \"\"\"Extract parameters as a single flattened vector.\"\"\"\n",
    "    # Get the model state, filtering for parameters only\n",
    "    state = nnx.state(model, nnx.Param)\n",
    "    \n",
    "    # Flatten the parameter state\n",
    "    flat_params, tree_def = jax.tree_util.tree_flatten(state)\n",
    "    param_shapes = [p.shape for p in flat_params]\n",
    "    \n",
    "    # Pre-compute split indices as concrete values\n",
    "    param_sizes = [int(np.prod(shape)) for shape in param_shapes]\n",
    "    split_indices = [int(idx) for idx in np.cumsum(param_sizes[:-1])]\n",
    "    \n",
    "    flattened_vector = jnp.concatenate([p.flatten() for p in flat_params])\n",
    "    return flattened_vector, (tree_def, param_shapes, split_indices)\n",
    "\n",
    "\n",
    "def unflatten_and_set_params(model, flattened_vector, restore_info):\n",
    "    \"\"\"Restore parameters from a flattened vector and update the model.\"\"\"\n",
    "    tree_def, shapes, split_indices = restore_info\n",
    "    \n",
    "    # Use the pre-computed concrete split indices\n",
    "    param_arrays = jnp.split(flattened_vector, split_indices)\n",
    "    \n",
    "    # Reshape each array back to its original shape\n",
    "    reshaped_params = [arr.reshape(shape) for arr, shape in zip(param_arrays, shapes)]\n",
    "    \n",
    "    # Reconstruct the parameter tree\n",
    "    new_param_state = jax.tree_util.tree_unflatten(tree_def, reshaped_params)\n",
    "    \n",
    "    # Update the model with new parameters\n",
    "    nnx.update(model, new_param_state)\n",
    "\n",
    "# Test the functions\n",
    "config = {\n",
    "    \"iterations\": 10,\n",
    "    \"d_model\": 10,\n",
    "    \"d_input\": 12,\n",
    "    \"memory_length\": 10,\n",
    "    \"memory_hidden_dims\": 10,\n",
    "    \"heads\": 1,\n",
    "    \"n_synch_out\": 10,\n",
    "    \"n_synch_action\": 10,\n",
    "    \"out_dims\": 3,\n",
    "}\n",
    "\n",
    "ctm = CTM(config, nnx.Rngs(0))\n",
    "\n",
    "# Get original output\n",
    "original_output = ctm(jnp.zeros((1, 12)))\n",
    "print(\"Original output:\", original_output)\n",
    "\n",
    "# Flatten parameters\n",
    "flattened_params, restore_info = flatten_params(ctm)\n",
    "print(f\"Flattened parameter vector shape: {flattened_params.shape}\")\n",
    "\n",
    "# # Modify parameters (add noise)\n",
    "# modified_params = flattened_params + 0.1 * jax.random.normal(jax.random.PRNGKey(42), flattened_params.shape)\n",
    "\n",
    "# # Set modified parameters\n",
    "# unflatten_and_set_params(ctm, modified_params, restore_info)"
   ]
  },
  {
   "cell_type": "code",
   "execution_count": 5,
   "id": "3781f8e6",
   "metadata": {},
   "outputs": [
    {
     "name": "stderr",
     "output_type": "stream",
     "text": [
      "EvoJAX: 2025-07-29 18:01:32,975 [INFO] Testing CTM\n",
      "EvoJAX: 2025-07-29 18:01:32,976 [INFO] Jax backend: [CudaDevice(id=0)]\n"
     ]
    },
    {
     "name": "stdout",
     "output_type": "stream",
     "text": [
      "jax.devices():\n",
      "NVIDIA GeForce RTX 3060 Ti\n"
     ]
    },
    {
     "name": "stderr",
     "output_type": "stream",
     "text": [
      "/usr/lib/python3.12/pty.py:95: RuntimeWarning: os.fork() was called. os.fork() is incompatible with multithreaded code, and JAX is multithreaded, so this will likely lead to a deadlock.\n",
      "  pid, fd = os.forkpty()\n"
     ]
    }
   ],
   "source": [
    "from brax import envs\n",
    "from brax.io import html\n",
    "\n",
    "from evojax import SimManager\n",
    "from evojax import ObsNormalizer\n",
    "from evojax.algo import PGPE\n",
    "from evojax.policy import MLPPolicy\n",
    "from evojax.policy.base import PolicyState\n",
    "from evojax.policy.base import PolicyNetwork\n",
    "from evojax.task.cartpole import CartPoleSwingUp\n",
    "from evojax.task.slimevolley import SlimeVolley\n",
    "from evojax.util import create_logger\n",
    "from evojax import Trainer\n",
    "\n",
    "print('jax.devices():')\n",
    "jax.devices()\n",
    "\n",
    "# Let's create a directory to save logs and models.\n",
    "log_dir = '../logs'\n",
    "logger = create_logger(name='EvoJAX', log_dir=log_dir)\n",
    "logger.info('Testing CTM')\n",
    "\n",
    "logger.info('Jax backend: {}'.format(jax.local_devices()))\n",
    "!nvidia-smi --query-gpu=name --format=csv,noheader\n",
    "\n",
    "class CTMPolicy(PolicyNetwork):\n",
    "    def __init__(self, input_dim, output_dim, rngs=nnx.Rngs(0)):\n",
    "        self.ctm = CTM({\n",
    "            \"iterations\": 10,\n",
    "            \"d_model\": 10,\n",
    "            \"d_input\": input_dim,\n",
    "            \"memory_length\": 10,\n",
    "            \"memory_hidden_dims\": 10,\n",
    "            \"heads\": 1,\n",
    "            \"n_synch_out\": 10,\n",
    "            \"n_synch_action\": 10,\n",
    "            \"out_dims\": output_dim,\n",
    "            }, rngs)\n",
    "        params, restore_info = flatten_params(self.ctm)\n",
    "        self.restore_info = restore_info\n",
    "        self.num_params = params.shape[0]\n",
    "\n",
    "    def get_actions(self, t_states, params, p_states):\n",
    "        def get_action_single(single_params, single_obs):\n",
    "            # unflatten_and_set_params(self.ctm, single_params, self.restore_info)\n",
    "            # return self.ctm(single_obs)\n",
    "            tmp_ctm = CTM(self.ctm.config, rngs=nnx.Rngs(0))\n",
    "            unflatten_and_set_params(tmp_ctm, single_params, self.restore_info)\n",
    "            return tmp_ctm(jnp.expand_dims(single_obs, 0))\n",
    "        \n",
    "        # vmap over parameter vectors\n",
    "        actions = jax.vmap(get_action_single)(params, t_states.obs)\n",
    "        return actions, p_states"
   ]
  },
  {
   "cell_type": "code",
   "execution_count": null,
   "id": "7ca0c4bb",
   "metadata": {},
   "outputs": [
    {
     "name": "stderr",
     "output_type": "stream",
     "text": [
      "EvoJAX: 2025-07-29 18:01:33,275 [INFO] use_for_loop=False\n",
      "EvoJAX: 2025-07-29 18:01:33,301 [INFO] Start to train for 1000 iterations.\n"
     ]
    },
    {
     "name": "stdout",
     "output_type": "stream",
     "text": [
      "(12,)\n",
      "(3,)\n",
      "5142\n"
     ]
    }
   ],
   "source": [
    "seed = 42\n",
    "\n",
    "train_task = SlimeVolley(test=False, max_steps=3000)\n",
    "test_task = SlimeVolley(test=True, max_steps=3000)\n",
    "\n",
    "# # We use a feedforward network as our policy.\n",
    "# # By default, MLPPolicy uses \"tanh\" as its activation function for the output.\n",
    "# policy = MLPPolicy(\n",
    "#     input_dim=train_task.obs_shape[0],\n",
    "#     hidden_dims=[64, 64],\n",
    "#     output_dim=train_task.act_shape[0],\n",
    "#     logger=logger,\n",
    "# )\n",
    "\n",
    "policy = CTMPolicy(train_task.obs_shape[0], train_task.act_shape[0], nnx.Rngs(0))\n",
    "\n",
    "print(train_task.obs_shape)\n",
    "print(train_task.act_shape)\n",
    "\n",
    "print(policy.num_params)\n",
    "\n",
    "# We use PGPE as our evolution algorithm.\n",
    "# If you want to know more about the algorithm, please take a look at the paper:\n",
    "# https://people.idsia.ch/~juergen/nn2010.pdf \n",
    "lr = 1.0\n",
    "center_learning_rate = 0.1 * lr\n",
    "stdev_learning_rate = 0.1 * lr\n",
    "init_stdev = 0.1 * lr\n",
    "\n",
    "solver = PGPE(\n",
    "    pop_size=64,\n",
    "    param_size=policy.num_params,\n",
    "    optimizer='adam',\n",
    "    # center_learning_rate=0.15, # careful, needs to scale with repeats or pop size. originally .05 \n",
    "    center_learning_rate=center_learning_rate,\n",
    "    stdev_learning_rate=stdev_learning_rate,\n",
    "    init_stdev=init_stdev,\n",
    "    seed=seed,\n",
    ")\n",
    "\n",
    "train_scores = []\n",
    "train_x = []\n",
    "test_scores = []\n",
    "test_x = []\n",
    "\n",
    "def log_scores(current_iter, scores, stage):\n",
    "    if stage == \"train\":\n",
    "        train_scores.append(scores.mean())\n",
    "        train_x.append(current_iter)\n",
    "    else:\n",
    "        test_scores.append(scores.mean())\n",
    "        test_x.append(current_iter)\n",
    "\n",
    "# Now that we have all the three components instantiated, we can create a\n",
    "# trainer and start the training process.\n",
    "trainer = Trainer(\n",
    "    policy=policy,\n",
    "    solver=solver,\n",
    "    train_task=train_task,\n",
    "    test_task=test_task,\n",
    "    max_iter=1000,\n",
    "    log_interval=10,\n",
    "    test_interval=200,\n",
    "    n_repeats=64, # duplicates\n",
    "    n_evaluations=128, #128,\n",
    "    seed=seed,\n",
    "    log_dir=log_dir,\n",
    "    logger=logger,\n",
    "    log_scores_fn=log_scores,\n",
    ")\n",
    "\n",
    "_ = trainer.run()"
   ]
  },
  {
   "cell_type": "code",
   "execution_count": null,
   "id": "a7667c6f",
   "metadata": {},
   "outputs": [
    {
     "ename": "ValueError",
     "evalue": "x and y must contain data",
     "output_type": "error",
     "traceback": [
      "\u001b[0;31m---------------------------------------------------------------------------\u001b[0m",
      "\u001b[0;31mValueError\u001b[0m                                Traceback (most recent call last)",
      "Cell \u001b[0;32mIn[269], line 4\u001b[0m\n\u001b[1;32m      1\u001b[0m \u001b[38;5;28;01mfrom\u001b[39;00m \u001b[38;5;21;01muniplot\u001b[39;00m \u001b[38;5;28;01mimport\u001b[39;00m lineplot, lineplot_, scatterplot, scatterplot_\n\u001b[1;32m      2\u001b[0m \u001b[38;5;28;01mfrom\u001b[39;00m \u001b[38;5;21;01muniplot\u001b[39;00m\u001b[38;5;21;01m.\u001b[39;00m\u001b[38;5;21;01mcanvas\u001b[39;00m \u001b[38;5;28;01mimport\u001b[39;00m \u001b[38;5;241m*\u001b[39m\n\u001b[0;32m----> 4\u001b[0m score \u001b[38;5;241m=\u001b[39m \u001b[43mlineplot\u001b[49m\u001b[43m(\u001b[49m\u001b[43mtrain_x\u001b[49m\u001b[43m,\u001b[49m\u001b[43m \u001b[49m\u001b[43mtrain_scores\u001b[49m\u001b[43m,\u001b[49m\u001b[43m \u001b[49m\u001b[43mtitle\u001b[49m\u001b[38;5;241;43m=\u001b[39;49m\u001b[38;5;124;43m\"\u001b[39;49m\u001b[38;5;124;43mTraining Graph\u001b[39;49m\u001b[38;5;124;43m\"\u001b[39;49m\u001b[43m,\u001b[49m\u001b[43m \u001b[49m\u001b[43mxlabel\u001b[49m\u001b[38;5;241;43m=\u001b[39;49m\u001b[38;5;124;43m\"\u001b[39;49m\u001b[38;5;124;43mTraining Iteration\u001b[39;49m\u001b[38;5;124;43m\"\u001b[39;49m\u001b[43m,\u001b[49m\u001b[43m \u001b[49m\u001b[43mylabel\u001b[49m\u001b[38;5;241;43m=\u001b[39;49m\u001b[38;5;124;43m\"\u001b[39;49m\u001b[38;5;124;43mAverage Score\u001b[39;49m\u001b[38;5;124;43m\"\u001b[39;49m\u001b[43m,\u001b[49m\u001b[43m \u001b[49m\u001b[43mcolor\u001b[49m\u001b[38;5;241;43m=\u001b[39;49m\u001b[38;5;124;43m\"\u001b[39;49m\u001b[38;5;124;43m#6699ff\u001b[39;49m\u001b[38;5;124;43m\"\u001b[39;49m\u001b[43m,\u001b[49m\u001b[43mname\u001b[49m\u001b[38;5;241;43m=\u001b[39;49m\u001b[38;5;124;43m\"\u001b[39;49m\u001b[38;5;124;43mtrain\u001b[39;49m\u001b[38;5;124;43m\"\u001b[39;49m\u001b[43m)\u001b[49m\n\u001b[1;32m      5\u001b[0m \u001b[38;5;28mprint\u001b[39m(score)\n\u001b[1;32m      6\u001b[0m \u001b[38;5;66;03m# score2 = lineplot(test_x, test_scores, title=\"Testing Graph\", xlabel=\"Training Iteration\", ylabel=\"Average Score\", color=\"#ff6666\",name=\"test\")\u001b[39;00m\n\u001b[1;32m      7\u001b[0m \u001b[38;5;66;03m# print(score2)\u001b[39;00m\n",
      "File \u001b[0;32m~/.local/lib/python3.12/site-packages/uniplot/interface/lineplot.py:355\u001b[0m, in \u001b[0;36mlineplot\u001b[0;34m(x, y, z, width, height, canvas, xlim, ylim, title, border, color, name, xlabel, ylabel, margin, padding, labels, head_tail, head_tail_frac, format, xticks)\u001b[0m\n\u001b[1;32m    342\u001b[0m         lineplot_(\n\u001b[1;32m    343\u001b[0m             plot,\n\u001b[1;32m    344\u001b[0m             x,\n\u001b[0;32m   (...)\u001b[0m\n\u001b[1;32m    351\u001b[0m             head_tail_frac\u001b[38;5;241m=\u001b[39mhead_tail_frac,\n\u001b[1;32m    352\u001b[0m         )\n\u001b[1;32m    353\u001b[0m     \u001b[38;5;28;01mreturn\u001b[39;00m plot\n\u001b[0;32m--> 355\u001b[0m \u001b[38;5;28;01mreturn\u001b[39;00m \u001b[43m_lineplot_xy\u001b[49m\u001b[43m(\u001b[49m\n\u001b[1;32m    356\u001b[0m \u001b[43m    \u001b[49m\u001b[43mx\u001b[49m\u001b[43m,\u001b[49m\n\u001b[1;32m    357\u001b[0m \u001b[43m    \u001b[49m\u001b[43my\u001b[49m\u001b[43m,\u001b[49m\n\u001b[1;32m    358\u001b[0m \u001b[43m    \u001b[49m\u001b[43mwidth\u001b[49m\u001b[38;5;241;43m=\u001b[39;49m\u001b[43mwidth\u001b[49m\u001b[43m,\u001b[49m\n\u001b[1;32m    359\u001b[0m \u001b[43m    \u001b[49m\u001b[43mheight\u001b[49m\u001b[38;5;241;43m=\u001b[39;49m\u001b[43mheight\u001b[49m\u001b[43m,\u001b[49m\n\u001b[1;32m    360\u001b[0m \u001b[43m    \u001b[49m\u001b[43mcanvas\u001b[49m\u001b[38;5;241;43m=\u001b[39;49m\u001b[43mcanvas\u001b[49m\u001b[43m,\u001b[49m\n\u001b[1;32m    361\u001b[0m \u001b[43m    \u001b[49m\u001b[43mxlim\u001b[49m\u001b[38;5;241;43m=\u001b[39;49m\u001b[43mxlim\u001b[49m\u001b[43m,\u001b[49m\n\u001b[1;32m    362\u001b[0m \u001b[43m    \u001b[49m\u001b[43mylim\u001b[49m\u001b[38;5;241;43m=\u001b[39;49m\u001b[43mylim\u001b[49m\u001b[43m,\u001b[49m\n\u001b[1;32m    363\u001b[0m \u001b[43m    \u001b[49m\u001b[43mtitle\u001b[49m\u001b[38;5;241;43m=\u001b[39;49m\u001b[43mtitle\u001b[49m\u001b[43m,\u001b[49m\n\u001b[1;32m    364\u001b[0m \u001b[43m    \u001b[49m\u001b[43mborder\u001b[49m\u001b[38;5;241;43m=\u001b[39;49m\u001b[43mborder\u001b[49m\u001b[43m,\u001b[49m\n\u001b[1;32m    365\u001b[0m \u001b[43m    \u001b[49m\u001b[43mcolor\u001b[49m\u001b[38;5;241;43m=\u001b[39;49m\u001b[43mcolor\u001b[49m\u001b[43m,\u001b[49m\n\u001b[1;32m    366\u001b[0m \u001b[43m    \u001b[49m\u001b[43mxlabel\u001b[49m\u001b[38;5;241;43m=\u001b[39;49m\u001b[43mxlabel\u001b[49m\u001b[43m,\u001b[49m\n\u001b[1;32m    367\u001b[0m \u001b[43m    \u001b[49m\u001b[43mylabel\u001b[49m\u001b[38;5;241;43m=\u001b[39;49m\u001b[43mylabel\u001b[49m\u001b[43m,\u001b[49m\n\u001b[1;32m    368\u001b[0m \u001b[43m    \u001b[49m\u001b[43mmargin\u001b[49m\u001b[38;5;241;43m=\u001b[39;49m\u001b[43mmargin\u001b[49m\u001b[43m,\u001b[49m\n\u001b[1;32m    369\u001b[0m \u001b[43m    \u001b[49m\u001b[43mpadding\u001b[49m\u001b[38;5;241;43m=\u001b[39;49m\u001b[43mpadding\u001b[49m\u001b[43m,\u001b[49m\n\u001b[1;32m    370\u001b[0m \u001b[43m    \u001b[49m\u001b[43mlabels\u001b[49m\u001b[38;5;241;43m=\u001b[39;49m\u001b[43mlabels\u001b[49m\u001b[43m,\u001b[49m\n\u001b[1;32m    371\u001b[0m \u001b[43m    \u001b[49m\u001b[43mhead_tail\u001b[49m\u001b[38;5;241;43m=\u001b[39;49m\u001b[43mhead_tail\u001b[49m\u001b[43m,\u001b[49m\n\u001b[1;32m    372\u001b[0m \u001b[43m    \u001b[49m\u001b[43mhead_tail_frac\u001b[49m\u001b[38;5;241;43m=\u001b[39;49m\u001b[43mhead_tail_frac\u001b[49m\u001b[43m,\u001b[49m\n\u001b[1;32m    373\u001b[0m \u001b[43m    \u001b[49m\u001b[43mname\u001b[49m\u001b[38;5;241;43m=\u001b[39;49m\u001b[43mname\u001b[49m\u001b[43m \u001b[49m\u001b[38;5;28;43;01mif\u001b[39;49;00m\u001b[43m \u001b[49m\u001b[38;5;28;43misinstance\u001b[39;49m\u001b[43m(\u001b[49m\u001b[43mname\u001b[49m\u001b[43m,\u001b[49m\u001b[43m \u001b[49m\u001b[38;5;28;43mstr\u001b[39;49m\u001b[43m)\u001b[49m\u001b[43m \u001b[49m\u001b[38;5;28;43;01melse\u001b[39;49;00m\u001b[43m \u001b[49m\u001b[38;5;124;43m\"\u001b[39;49m\u001b[38;5;124;43m\"\u001b[39;49m\u001b[43m,\u001b[49m\n\u001b[1;32m    374\u001b[0m \u001b[43m\u001b[49m\u001b[43m)\u001b[49m\n",
      "File \u001b[0;32m~/.local/lib/python3.12/site-packages/uniplot/interface/lineplot.py:59\u001b[0m, in \u001b[0;36m_lineplot_xy\u001b[0;34m(x, y, width, height, canvas, xlim, ylim, title, border, color, xlabel, ylabel, margin, padding, labels, head_tail, head_tail_frac, name)\u001b[0m\n\u001b[1;32m     57\u001b[0m y_vals \u001b[38;5;241m=\u001b[39m \u001b[38;5;28mlist\u001b[39m(y)\n\u001b[1;32m     58\u001b[0m \u001b[38;5;28;01mif\u001b[39;00m \u001b[38;5;129;01mnot\u001b[39;00m x_vals \u001b[38;5;129;01mor\u001b[39;00m \u001b[38;5;129;01mnot\u001b[39;00m y_vals:\n\u001b[0;32m---> 59\u001b[0m     \u001b[38;5;28;01mraise\u001b[39;00m \u001b[38;5;167;01mValueError\u001b[39;00m(\u001b[38;5;124m\"\u001b[39m\u001b[38;5;124mx and y must contain data\u001b[39m\u001b[38;5;124m\"\u001b[39m)\n\u001b[1;32m     61\u001b[0m \u001b[38;5;28;01mif\u001b[39;00m xlim \u001b[38;5;129;01mis\u001b[39;00m \u001b[38;5;28;01mNone\u001b[39;00m:\n\u001b[1;32m     62\u001b[0m     xmin, xmax \u001b[38;5;241m=\u001b[39m plotting_range_narrow(\u001b[38;5;28mmin\u001b[39m(x_vals), \u001b[38;5;28mmax\u001b[39m(x_vals))\n",
      "\u001b[0;31mValueError\u001b[0m: x and y must contain data"
     ]
    }
   ],
   "source": [
    "from uniplot import lineplot, lineplot_, scatterplot, scatterplot_\n",
    "from uniplot.canvas import *\n",
    "\n",
    "score = lineplot(train_x, train_scores, title=\"Training Graph\", xlabel=\"Training Iteration\", ylabel=\"Average Score\", color=\"#6699ff\",name=\"train\")\n",
    "print(score)\n",
    "# score2 = lineplot(test_x, test_scores, title=\"Testing Graph\", xlabel=\"Training Iteration\", ylabel=\"Average Score\", color=\"#ff6666\",name=\"test\")\n",
    "# print(score2)"
   ]
  },
  {
   "cell_type": "code",
   "execution_count": null,
   "id": "8b1df257",
   "metadata": {},
   "outputs": [
    {
     "name": "stderr",
     "output_type": "stream",
     "text": [
      "imageio_ffmpeg: 2025-07-29 13:43:59,578 [WARNING] IMAGEIO FFMPEG_WRITER WARNING: input image is not divisible by macro_block_size=16, resizing from (336, 168) to (336, 176) to ensure video compatibility with most codecs and players. To prevent resizing, make your input image divisible by the macro_block_size or set the macro_block_size to 1 (risking incompatibility).\n"
     ]
    },
    {
     "name": "stdout",
     "output_type": "stream",
     "text": [
      "reward=[0]\n"
     ]
    },
    {
     "name": "stderr",
     "output_type": "stream",
     "text": [
      "/usr/lib/python3.12/subprocess.py:1885: RuntimeWarning: os.fork() was called. os.fork() is incompatible with multithreaded code, and JAX is multithreaded, so this will likely lead to a deadlock.\n",
      "  self.pid = _fork_exec(\n"
     ]
    },
    {
     "data": {
      "text/html": [
       "<video src=\"../logs/slimevolley.mp4\" controls  >\n",
       "      Your browser does not support the <code>video</code> element.\n",
       "    </video>"
      ],
      "text/plain": [
       "<IPython.core.display.Video object>"
      ]
     },
     "execution_count": 184,
     "metadata": {},
     "output_type": "execute_result"
    }
   ],
   "source": [
    "# Let's visualize the learned policy.\n",
    "\n",
    "def render(task, algo, policy):\n",
    "    \"\"\"Render the learned policy.\"\"\"\n",
    "\n",
    "    task_reset_fn = jax.jit(test_task.reset)\n",
    "    policy_reset_fn = jax.jit(policy.reset)\n",
    "    step_fn = jax.jit(test_task.step)\n",
    "    act_fn = jax.jit(policy.get_actions)\n",
    "\n",
    "    params = algo.best_params[None, :]\n",
    "    task_s = task_reset_fn(jax.random.PRNGKey(seed=seed)[None, :])\n",
    "    policy_s = policy_reset_fn(task_s)\n",
    "\n",
    "    single_task_s = jax.tree.map(lambda x: x[0], task_s)\n",
    "\n",
    "    # images = [CartPoleSwingUp.render(task_s, 0)]\n",
    "    images = [SlimeVolley.render(single_task_s, 0)]\n",
    "    done = False\n",
    "    step = 0\n",
    "    reward = 0\n",
    "    while not done:\n",
    "        act, policy_s = act_fn(task_s, params, policy_s)\n",
    "        task_s, r, d = step_fn(task_s, act)\n",
    "        step += 1\n",
    "        reward = reward + r\n",
    "        done = bool(d[0])\n",
    "        if step % 5 == 0:\n",
    "            # images.append(CartPoleSwingUp.render(task_s, 0))\n",
    "            single_task_s = jax.tree.map(lambda x: x[0], task_s)\n",
    "            images.append(SlimeVolley.render(single_task_s, 0))\n",
    "    print('reward={}'.format(reward))\n",
    "    return images\n",
    "\n",
    "\n",
    "imgs = render(test_task, solver, policy)\n",
    "# gif_file = os.path.join(log_dir, 'slimevolley.gif')\n",
    "# imgs[0].save(\n",
    "#     gif_file, save_all=True, append_images=imgs[1:], duration=40, loop=0)\n",
    "# Image(open(gif_file,'rb').read())\n",
    "\n",
    "# display mp4\n",
    "import imageio\n",
    "mp4_file = os.path.join(log_dir, 'slimevolley.mp4')\n",
    "imageio.mimsave(mp4_file, imgs, fps=24)\n",
    "from IPython.display import Video\n",
    "Video(mp4_file)"
   ]
  }
 ],
 "metadata": {
  "kernelspec": {
   "display_name": "Python 3",
   "language": "python",
   "name": "python3"
  },
  "language_info": {
   "codemirror_mode": {
    "name": "ipython",
    "version": 3
   },
   "file_extension": ".py",
   "mimetype": "text/x-python",
   "name": "python",
   "nbconvert_exporter": "python",
   "pygments_lexer": "ipython3",
   "version": "3.12.3"
  }
 },
 "nbformat": 4,
 "nbformat_minor": 5
}
