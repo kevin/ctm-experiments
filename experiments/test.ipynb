{
 "cells": [
  {
   "cell_type": "markdown",
   "id": "d15cbaf3",
   "metadata": {},
   "source": [
    "imports"
   ]
  },
  {
   "cell_type": "code",
   "execution_count": 11,
   "id": "61ca5614",
   "metadata": {},
   "outputs": [
    {
     "data": {
      "text/plain": [
       "<module 'models.ctm' from '/home/kevin/projects/ctm-experiments/experiments/../models/ctm.py'>"
      ]
     },
     "execution_count": 11,
     "metadata": {},
     "output_type": "execute_result"
    }
   ],
   "source": [
    "import jax\n",
    "from jax import numpy as jnp\n",
    "from flax import nnx\n",
    "import flax\n",
    "import evojax\n",
    "\n",
    "import numpy as np\n",
    "\n",
    "import sys\n",
    "sys.path.append(\"..\")\n",
    "\n",
    "import os\n",
    "\n",
    "from IPython.display import Image\n",
    "\n",
    "from models.ctm import CTM\n",
    "\n",
    "# dynamic reload\n",
    "import importlib\n",
    "importlib.reload(sys.modules[\"models.ctm\"])"
   ]
  },
  {
   "cell_type": "markdown",
   "id": "5417a762",
   "metadata": {},
   "source": [
    "create model"
   ]
  },
  {
   "cell_type": "code",
   "execution_count": 12,
   "id": "2231639d",
   "metadata": {},
   "outputs": [
    {
     "name": "stdout",
     "output_type": "stream",
     "text": [
      "Original output: [[0. 0. 0. 0. 0. 0. 0. 0. 0. 0.]]\n",
      "Flattened parameter vector shape: (220,)\n"
     ]
    }
   ],
   "source": [
    "def flatten_params(model):\n",
    "    \"\"\"Extract parameters as a single flattened vector.\"\"\"\n",
    "    # Get the model state, filtering for parameters only\n",
    "    state = nnx.state(model, nnx.Param)\n",
    "    \n",
    "    # Flatten the parameter state\n",
    "    flat_params, tree_def = jax.tree_util.tree_flatten(state)\n",
    "    param_shapes = [p.shape for p in flat_params]\n",
    "    \n",
    "    # Pre-compute split indices as concrete values\n",
    "    param_sizes = [int(np.prod(shape)) for shape in param_shapes]\n",
    "    split_indices = [int(idx) for idx in np.cumsum(param_sizes[:-1])]\n",
    "    \n",
    "    flattened_vector = jnp.concatenate([p.flatten() for p in flat_params])\n",
    "    return flattened_vector, (tree_def, param_shapes, split_indices)\n",
    "\n",
    "\n",
    "def unflatten_and_set_params(model, flattened_vector, restore_info):\n",
    "    \"\"\"Restore parameters from a flattened vector and update the model.\"\"\"\n",
    "    tree_def, shapes, split_indices = restore_info\n",
    "    \n",
    "    # Use the pre-computed concrete split indices\n",
    "    param_arrays = jnp.split(flattened_vector, split_indices)\n",
    "    \n",
    "    # Reshape each array back to its original shape\n",
    "    reshaped_params = [arr.reshape(shape) for arr, shape in zip(param_arrays, shapes)]\n",
    "    \n",
    "    # Reconstruct the parameter tree\n",
    "    new_param_state = jax.tree_util.tree_unflatten(tree_def, reshaped_params)\n",
    "    \n",
    "    # Update the model with new parameters\n",
    "    nnx.update(model, new_param_state)\n",
    "\n",
    "# Test the functions\n",
    "config = {\n",
    "    \"input_size\": 10,\n",
    "    \"hidden_size\": 10,\n",
    "    \"output_size\": 10,\n",
    "}\n",
    "\n",
    "ctm = CTM(config, nnx.Rngs(0))\n",
    "\n",
    "# Get original output\n",
    "original_output = ctm(jnp.zeros((1, 10)))\n",
    "print(\"Original output:\", original_output)\n",
    "\n",
    "# Flatten parameters\n",
    "flattened_params, restore_info = flatten_params(ctm)\n",
    "print(f\"Flattened parameter vector shape: {flattened_params.shape}\")\n",
    "\n",
    "# # Modify parameters (add noise)\n",
    "# modified_params = flattened_params + 0.1 * jax.random.normal(jax.random.PRNGKey(42), flattened_params.shape)\n",
    "\n",
    "# # Set modified parameters\n",
    "# unflatten_and_set_params(ctm, modified_params, restore_info)"
   ]
  },
  {
   "cell_type": "code",
   "execution_count": 13,
   "id": "3781f8e6",
   "metadata": {},
   "outputs": [
    {
     "name": "stderr",
     "output_type": "stream",
     "text": [
      "EvoJAX: 2025-07-29 02:41:54,662 [INFO] Testing CTM\n",
      "EvoJAX: 2025-07-29 02:41:54,663 [INFO] Jax backend: [CudaDevice(id=0)]\n"
     ]
    },
    {
     "name": "stdout",
     "output_type": "stream",
     "text": [
      "jax.devices():\n",
      "NVIDIA GeForce RTX 3060 Ti\n"
     ]
    },
    {
     "name": "stderr",
     "output_type": "stream",
     "text": [
      "/usr/lib/python3.12/pty.py:95: RuntimeWarning: os.fork() was called. os.fork() is incompatible with multithreaded code, and JAX is multithreaded, so this will likely lead to a deadlock.\n",
      "  pid, fd = os.forkpty()\n"
     ]
    }
   ],
   "source": [
    "from brax import envs\n",
    "from brax.io import html\n",
    "\n",
    "from evojax import SimManager\n",
    "from evojax import ObsNormalizer\n",
    "from evojax.algo import PGPE\n",
    "from evojax.policy import MLPPolicy\n",
    "from evojax.policy.base import PolicyState\n",
    "from evojax.policy.base import PolicyNetwork\n",
    "from evojax.task.cartpole import CartPoleSwingUp\n",
    "from evojax.task.slimevolley import SlimeVolley\n",
    "from evojax.util import create_logger\n",
    "from evojax import Trainer\n",
    "\n",
    "print('jax.devices():')\n",
    "jax.devices()\n",
    "\n",
    "# Let's create a directory to save logs and models.\n",
    "log_dir = '../logs'\n",
    "logger = create_logger(name='EvoJAX', log_dir=log_dir)\n",
    "logger.info('Testing CTM')\n",
    "\n",
    "logger.info('Jax backend: {}'.format(jax.local_devices()))\n",
    "!nvidia-smi --query-gpu=name --format=csv,noheader\n",
    "\n",
    "class CTMPolicy(PolicyNetwork):\n",
    "    def __init__(self, input_dim, output_dim, hidden_dim, rngs=nnx.Rngs(0)):\n",
    "        self.ctm = CTM({\"input_size\": input_dim, \"hidden_size\": hidden_dim, \"output_size\": output_dim}, rngs)\n",
    "        params, restore_info = flatten_params(self.ctm)\n",
    "        self.restore_info = restore_info\n",
    "        self.num_params = params.shape[0]\n",
    "\n",
    "    def get_actions(self, t_states, params, p_states):\n",
    "        def get_action_single(single_params, single_obs):\n",
    "            unflatten_and_set_params(self.ctm, single_params, self.restore_info)\n",
    "            return self.ctm(single_obs)\n",
    "        \n",
    "        # vmap over parameter vectors\n",
    "        actions = jax.vmap(get_action_single)(params, t_states.obs)\n",
    "        return actions, p_states"
   ]
  },
  {
   "cell_type": "code",
   "execution_count": null,
   "id": "7ca0c4bb",
   "metadata": {},
   "outputs": [
    {
     "name": "stderr",
     "output_type": "stream",
     "text": [
      "EvoJAX: 2025-07-29 02:57:15,875 [INFO] use_for_loop=False\n",
      "EvoJAX: 2025-07-29 02:57:15,892 [INFO] Start to train for 600 iterations.\n"
     ]
    },
    {
     "name": "stdout",
     "output_type": "stream",
     "text": [
      "(12,)\n",
      "(3,)\n",
      "35\n"
     ]
    },
    {
     "name": "stderr",
     "output_type": "stream",
     "text": [
      "EvoJAX: 2025-07-29 02:57:48,561 [INFO] Iter=100, size=16, max=-25.6000, avg=-28.2750, min=-31.6000, std=1.6460\n",
      "EvoJAX: 2025-07-29 02:58:17,014 [INFO] Iter=200, size=16, max=-25.2000, avg=-27.7125, min=-30.0000, std=1.3546\n",
      "EvoJAX: 2025-07-29 02:58:19,768 [INFO] [TEST] Iter=200, #tests=128, max=-2.0000, avg=-4.7188, min=-5.0000, std=0.5581\n"
     ]
    }
   ],
   "source": [
    "seed = 42  # Wish me luck!\n",
    "\n",
    "train_task = SlimeVolley(test=False, max_steps=3000)\n",
    "test_task = SlimeVolley(test=True, max_steps=1000)\n",
    "\n",
    "# # We use a feedforward network as our policy.\n",
    "# # By default, MLPPolicy uses \"tanh\" as its activation function for the output.\n",
    "# policy = MLPPolicy(\n",
    "#     input_dim=train_task.obs_shape[0],\n",
    "#     hidden_dims=[64, 64],\n",
    "#     output_dim=train_task.act_shape[0],\n",
    "#     logger=logger,\n",
    "# )\n",
    "\n",
    "policy = CTMPolicy(train_task.obs_shape[0], train_task.act_shape[0], 3, nnx.Rngs(0))\n",
    "\n",
    "print(train_task.obs_shape)\n",
    "print(train_task.act_shape)\n",
    "\n",
    "print(policy.num_params)\n",
    "\n",
    "# We use PGPE as our evolution algorithm.\n",
    "# If you want to know more about the algorithm, please take a look at the paper:\n",
    "# https://people.idsia.ch/~juergen/nn2010.pdf \n",
    "solver = PGPE(\n",
    "    pop_size=16,\n",
    "    param_size=policy.num_params,\n",
    "    optimizer='adam',\n",
    "    center_learning_rate=0.05,\n",
    "    seed=seed,\n",
    ")\n",
    "\n",
    "# Now that we have all the three components instantiated, we can create a\n",
    "# trainer and start the training process.\n",
    "trainer = Trainer(\n",
    "    policy=policy,\n",
    "    solver=solver,\n",
    "    train_task=train_task,\n",
    "    test_task=test_task,\n",
    "    max_iter=600,\n",
    "    log_interval=100,\n",
    "    test_interval=200,\n",
    "    n_repeats=5, # duplicates\n",
    "    n_evaluations=128,\n",
    "    seed=seed,\n",
    "    log_dir=log_dir,\n",
    "    logger=logger,\n",
    ")\n",
    "\n",
    "_ = trainer.run()"
   ]
  },
  {
   "cell_type": "code",
   "execution_count": null,
   "id": "8b1df257",
   "metadata": {},
   "outputs": [
    {
     "name": "stderr",
     "output_type": "stream",
     "text": [
      "/tmp/ipykernel_196857/3221323394.py:15: DeprecationWarning: jax.tree_map is deprecated: use jax.tree.map (jax v0.4.25 or newer) or jax.tree_util.tree_map (any JAX version).\n",
      "  single_task_s = jax.tree_map(lambda x: x[0], task_s)\n",
      "/tmp/ipykernel_196857/3221323394.py:30: DeprecationWarning: jax.tree_map is deprecated: use jax.tree.map (jax v0.4.25 or newer) or jax.tree_util.tree_map (any JAX version).\n",
      "  single_task_s = jax.tree_map(lambda x: x[0], task_s)\n",
      "imageio_ffmpeg: 2025-07-29 02:55:39,302 [WARNING] IMAGEIO FFMPEG_WRITER WARNING: input image is not divisible by macro_block_size=16, resizing from (336, 168) to (336, 176) to ensure video compatibility with most codecs and players. To prevent resizing, make your input image divisible by the macro_block_size or set the macro_block_size to 1 (risking incompatibility).\n"
     ]
    },
    {
     "name": "stdout",
     "output_type": "stream",
     "text": [
      "reward=[-4]\n"
     ]
    },
    {
     "name": "stderr",
     "output_type": "stream",
     "text": [
      "/usr/lib/python3.12/subprocess.py:1885: RuntimeWarning: os.fork() was called. os.fork() is incompatible with multithreaded code, and JAX is multithreaded, so this will likely lead to a deadlock.\n",
      "  self.pid = _fork_exec(\n"
     ]
    },
    {
     "data": {
      "text/html": [
       "\n",
       "<video width=\"640\" height=\"480\" controls>\n",
       "  <source src={mp4_file} type=\"video/mp4\">\n",
       "</video>\n"
      ],
      "text/plain": [
       "<IPython.core.display.HTML object>"
      ]
     },
     "execution_count": 20,
     "metadata": {},
     "output_type": "execute_result"
    }
   ],
   "source": [
    "# Let's visualize the learned policy.\n",
    "\n",
    "def render(task, algo, policy):\n",
    "    \"\"\"Render the learned policy.\"\"\"\n",
    "\n",
    "    task_reset_fn = jax.jit(test_task.reset)\n",
    "    policy_reset_fn = jax.jit(policy.reset)\n",
    "    step_fn = jax.jit(test_task.step)\n",
    "    act_fn = jax.jit(policy.get_actions)\n",
    "\n",
    "    params = algo.best_params[None, :]\n",
    "    task_s = task_reset_fn(jax.random.PRNGKey(seed=seed)[None, :])\n",
    "    policy_s = policy_reset_fn(task_s)\n",
    "\n",
    "    single_task_s = jax.tree.map(lambda x: x[0], task_s)\n",
    "\n",
    "    # images = [CartPoleSwingUp.render(task_s, 0)]\n",
    "    images = [SlimeVolley.render(single_task_s, 0)]\n",
    "    done = False\n",
    "    step = 0\n",
    "    reward = 0\n",
    "    while not done:\n",
    "        act, policy_s = act_fn(task_s, params, policy_s)\n",
    "        task_s, r, d = step_fn(task_s, act)\n",
    "        step += 1\n",
    "        reward = reward + r\n",
    "        done = bool(d[0])\n",
    "        if step % 3 == 0:\n",
    "            # images.append(CartPoleSwingUp.render(task_s, 0))\n",
    "            single_task_s = jax.tree.map(lambda x: x[0], task_s)\n",
    "            images.append(SlimeVolley.render(single_task_s, 0))\n",
    "    print('reward={}'.format(reward))\n",
    "    return images\n",
    "\n",
    "\n",
    "imgs = render(test_task, solver, policy)\n",
    "# gif_file = os.path.join(log_dir, 'slimevolley.gif')\n",
    "# imgs[0].save(\n",
    "#     gif_file, save_all=True, append_images=imgs[1:], duration=40, loop=0)\n",
    "# Image(open(gif_file,'rb').read())\n",
    "\n",
    "# display mp4\n",
    "import imageio\n",
    "mp4_file = os.path.join(log_dir, 'slimevolley.mp4')\n",
    "imageio.mimsave(mp4_file, imgs, fps=30)\n",
    "from IPython.display import Video\n",
    "Video(mp4_file)"
   ]
  }
 ],
 "metadata": {
  "kernelspec": {
   "display_name": "Python 3",
   "language": "python",
   "name": "python3"
  },
  "language_info": {
   "codemirror_mode": {
    "name": "ipython",
    "version": 3
   },
   "file_extension": ".py",
   "mimetype": "text/x-python",
   "name": "python",
   "nbconvert_exporter": "python",
   "pygments_lexer": "ipython3",
   "version": "3.12.3"
  }
 },
 "nbformat": 4,
 "nbformat_minor": 5
}
